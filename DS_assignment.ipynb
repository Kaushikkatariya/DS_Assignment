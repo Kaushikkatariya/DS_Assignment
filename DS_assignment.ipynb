{
  "nbformat": 4,
  "nbformat_minor": 0,
  "metadata": {
    "colab": {
      "name": "DS_assignment.ipynb",
      "provenance": [],
      "collapsed_sections": [],
      "include_colab_link": true
    },
    "kernelspec": {
      "name": "python3",
      "display_name": "Python 3"
    },
    "language_info": {
      "name": "python"
    }
  },
  "cells": [
    {
      "cell_type": "markdown",
      "metadata": {
        "id": "view-in-github",
        "colab_type": "text"
      },
      "source": [
        "<a href=\"https://colab.research.google.com/github/Kaushikkatariya/DS_Assignment/blob/main/DS_assignment.ipynb\" target=\"_parent\"><img src=\"https://colab.research.google.com/assets/colab-badge.svg\" alt=\"Open In Colab\"/></a>"
      ]
    },
    {
      "cell_type": "code",
      "execution_count": 1,
      "metadata": {
        "id": "EiSL6AhyHPwP"
      },
      "outputs": [],
      "source": [
        "import pandas\n",
        "import joblib\n",
        "import numpy as np\n",
        "import pandas as pd\n",
        "import matplotlib.pyplot as plt\n",
        "import seaborn as sns"
      ]
    },
    {
      "cell_type": "code",
      "source": [
        "#read data from all the sheets\n",
        "dataframe_sales_codes = pd.read_excel(\"vehicle_data.xlsx\", sheet_name=\"sales_codes\")\n",
        "dataframe_vehicle_hash = pd.read_excel(\"vehicle_data.xlsx\", sheet_name=\"vehicle_hash\")\n",
        "dataframe_engines = pd.read_excel(\"vehicle_data.xlsx\", sheet_name=\"engines\")\n",
        "print(dataframe_sales_codes.shape)\n",
        "print(dataframe_vehicle_hash.shape)\n",
        "print(dataframe_engines.shape)"
      ],
      "metadata": {
        "colab": {
          "base_uri": "https://localhost:8080/"
        },
        "id": "vCm60tLoH440",
        "outputId": "ddf4e620-1d9d-4518-eeea-02dbcf3836ab"
      },
      "execution_count": 2,
      "outputs": [
        {
          "output_type": "stream",
          "name": "stdout",
          "text": [
            "(500, 5)\n",
            "(500, 5)\n",
            "(9, 7)\n"
          ]
        }
      ]
    },
    {
      "cell_type": "code",
      "source": [
        "#Data type\n",
        "dataframe_sales_codes.dtypes"
      ],
      "metadata": {
        "colab": {
          "base_uri": "https://localhost:8080/"
        },
        "id": "Y1oHcVnRMW6T",
        "outputId": "d41f898b-a080-46d1-ab53-2a6a6a80dbf9"
      },
      "execution_count": 3,
      "outputs": [
        {
          "output_type": "execute_result",
          "data": {
            "text/plain": [
              "Unnamed: 0           int64\n",
              "h_vehicle_hash      object\n",
              "production_date     object\n",
              "country             object\n",
              "sales_code_array    object\n",
              "dtype: object"
            ]
          },
          "metadata": {},
          "execution_count": 3
        }
      ]
    },
    {
      "cell_type": "code",
      "source": [
        "#Read sales code data from the sheets\n",
        "dataframe_sales_codes.head(10)"
      ],
      "metadata": {
        "colab": {
          "base_uri": "https://localhost:8080/",
          "height": 363
        },
        "id": "OvKa-UwGJQM0",
        "outputId": "82e3127b-d263-418f-c319-24e068c329fd"
      },
      "execution_count": 4,
      "outputs": [
        {
          "output_type": "execute_result",
          "data": {
            "text/html": [
              "\n",
              "  <div id=\"df-c046d69b-e26d-4dc3-ae24-849701ab17fc\">\n",
              "    <div class=\"colab-df-container\">\n",
              "      <div>\n",
              "<style scoped>\n",
              "    .dataframe tbody tr th:only-of-type {\n",
              "        vertical-align: middle;\n",
              "    }\n",
              "\n",
              "    .dataframe tbody tr th {\n",
              "        vertical-align: top;\n",
              "    }\n",
              "\n",
              "    .dataframe thead th {\n",
              "        text-align: right;\n",
              "    }\n",
              "</style>\n",
              "<table border=\"1\" class=\"dataframe\">\n",
              "  <thead>\n",
              "    <tr style=\"text-align: right;\">\n",
              "      <th></th>\n",
              "      <th>Unnamed: 0</th>\n",
              "      <th>h_vehicle_hash</th>\n",
              "      <th>production_date</th>\n",
              "      <th>country</th>\n",
              "      <th>sales_code_array</th>\n",
              "    </tr>\n",
              "  </thead>\n",
              "  <tbody>\n",
              "    <tr>\n",
              "      <th>0</th>\n",
              "      <td>0</td>\n",
              "      <td>924d229bede272c5a3b440c464cd1dfb74cae74d</td>\n",
              "      <td>2013-02-05 00:00:00</td>\n",
              "      <td>Namibia</td>\n",
              "      <td>Z5E, M3E, A4S, Y1R, F5E, J3Y, X4M, J1Z, M5X, V...</td>\n",
              "    </tr>\n",
              "    <tr>\n",
              "      <th>1</th>\n",
              "      <td>0</td>\n",
              "      <td>3787a8db036dabd7433a32eaeeca8e5758bc3df8</td>\n",
              "      <td>2012-08-27 00:00:00</td>\n",
              "      <td>Germany</td>\n",
              "      <td>Z5D, M2N, K1X, Q2Z, G0W, F0S, F0K, E4M, V2H, A...</td>\n",
              "    </tr>\n",
              "    <tr>\n",
              "      <th>2</th>\n",
              "      <td>0</td>\n",
              "      <td>aea31cdf4f575acf190626a50e927547e683d2ac</td>\n",
              "      <td>2015-08-11 00:00:00</td>\n",
              "      <td>Germany</td>\n",
              "      <td>Z5C, M2A, A5H, P7S, P2B, N8D, D4S, A3A, D4Q, I...</td>\n",
              "    </tr>\n",
              "    <tr>\n",
              "      <th>3</th>\n",
              "      <td>0</td>\n",
              "      <td>d92ed338496281e08443c88583be06128a2d4b42</td>\n",
              "      <td>2015-02-22 00:00:00</td>\n",
              "      <td>Lithuania</td>\n",
              "      <td>Z5F, M3P, D3H, C8C, Z9I, K6T, N2F, I1P, K3Z, Z...</td>\n",
              "    </tr>\n",
              "    <tr>\n",
              "      <th>4</th>\n",
              "      <td>0</td>\n",
              "      <td>7934c4872515da4b1c9648d01c0813f81c496aff</td>\n",
              "      <td>2017-03-10 00:00:00</td>\n",
              "      <td>Germany</td>\n",
              "      <td>Z5B, M1K, L1T, E6J, C6I, A2K, O0C, K1X, X1S, F...</td>\n",
              "    </tr>\n",
              "    <tr>\n",
              "      <th>5</th>\n",
              "      <td>0</td>\n",
              "      <td>14099ecd0625030ad276cf651a9ce9c34ca50088</td>\n",
              "      <td>2020-06-14 00:00:00</td>\n",
              "      <td>United Arab Emirates / Dubai</td>\n",
              "      <td>Z5F, M3P, Z2Q, W1Z, I4E, K8X, V5W, R5N, W4C, U...</td>\n",
              "    </tr>\n",
              "    <tr>\n",
              "      <th>6</th>\n",
              "      <td>0</td>\n",
              "      <td>31af1c9e3162b07c36234b181aa44ca2a045b629</td>\n",
              "      <td>2016-11-24 00:00:00</td>\n",
              "      <td>French Guiana</td>\n",
              "      <td>Z5B, M1H, W5U, C0U, M8C, C1M, W9I, P6Z, R6U, P...</td>\n",
              "    </tr>\n",
              "    <tr>\n",
              "      <th>7</th>\n",
              "      <td>0</td>\n",
              "      <td>79313aefe4936c52ffba6a0dabdef2bcd0a69c21</td>\n",
              "      <td>2016-09-26 00:00:00</td>\n",
              "      <td>Malediven</td>\n",
              "      <td>Z5D, M2Q, K6Q, J1Y, U2G, N1Q, Q0H, J3Q, O4G, M...</td>\n",
              "    </tr>\n",
              "    <tr>\n",
              "      <th>8</th>\n",
              "      <td>0</td>\n",
              "      <td>5b15f251639c1ff25ca15e9c2ec570bef949000f</td>\n",
              "      <td>2018-09-06 00:00:00</td>\n",
              "      <td>Oman</td>\n",
              "      <td>Z5E, M3B, J3Q, E2M, P2Q, F1R, K1T, C4V, W8B, Z...</td>\n",
              "    </tr>\n",
              "    <tr>\n",
              "      <th>9</th>\n",
              "      <td>0</td>\n",
              "      <td>70d85da3bc330c69b31efcb70e486cdb8e6ac547</td>\n",
              "      <td>2018-04-01 00:00:00</td>\n",
              "      <td>Dominica</td>\n",
              "      <td>Z5B, M1H, J2E, G0N, N2R, C9H, K3V, U3M, W0M, S...</td>\n",
              "    </tr>\n",
              "  </tbody>\n",
              "</table>\n",
              "</div>\n",
              "      <button class=\"colab-df-convert\" onclick=\"convertToInteractive('df-c046d69b-e26d-4dc3-ae24-849701ab17fc')\"\n",
              "              title=\"Convert this dataframe to an interactive table.\"\n",
              "              style=\"display:none;\">\n",
              "        \n",
              "  <svg xmlns=\"http://www.w3.org/2000/svg\" height=\"24px\"viewBox=\"0 0 24 24\"\n",
              "       width=\"24px\">\n",
              "    <path d=\"M0 0h24v24H0V0z\" fill=\"none\"/>\n",
              "    <path d=\"M18.56 5.44l.94 2.06.94-2.06 2.06-.94-2.06-.94-.94-2.06-.94 2.06-2.06.94zm-11 1L8.5 8.5l.94-2.06 2.06-.94-2.06-.94L8.5 2.5l-.94 2.06-2.06.94zm10 10l.94 2.06.94-2.06 2.06-.94-2.06-.94-.94-2.06-.94 2.06-2.06.94z\"/><path d=\"M17.41 7.96l-1.37-1.37c-.4-.4-.92-.59-1.43-.59-.52 0-1.04.2-1.43.59L10.3 9.45l-7.72 7.72c-.78.78-.78 2.05 0 2.83L4 21.41c.39.39.9.59 1.41.59.51 0 1.02-.2 1.41-.59l7.78-7.78 2.81-2.81c.8-.78.8-2.07 0-2.86zM5.41 20L4 18.59l7.72-7.72 1.47 1.35L5.41 20z\"/>\n",
              "  </svg>\n",
              "      </button>\n",
              "      \n",
              "  <style>\n",
              "    .colab-df-container {\n",
              "      display:flex;\n",
              "      flex-wrap:wrap;\n",
              "      gap: 12px;\n",
              "    }\n",
              "\n",
              "    .colab-df-convert {\n",
              "      background-color: #E8F0FE;\n",
              "      border: none;\n",
              "      border-radius: 50%;\n",
              "      cursor: pointer;\n",
              "      display: none;\n",
              "      fill: #1967D2;\n",
              "      height: 32px;\n",
              "      padding: 0 0 0 0;\n",
              "      width: 32px;\n",
              "    }\n",
              "\n",
              "    .colab-df-convert:hover {\n",
              "      background-color: #E2EBFA;\n",
              "      box-shadow: 0px 1px 2px rgba(60, 64, 67, 0.3), 0px 1px 3px 1px rgba(60, 64, 67, 0.15);\n",
              "      fill: #174EA6;\n",
              "    }\n",
              "\n",
              "    [theme=dark] .colab-df-convert {\n",
              "      background-color: #3B4455;\n",
              "      fill: #D2E3FC;\n",
              "    }\n",
              "\n",
              "    [theme=dark] .colab-df-convert:hover {\n",
              "      background-color: #434B5C;\n",
              "      box-shadow: 0px 1px 3px 1px rgba(0, 0, 0, 0.15);\n",
              "      filter: drop-shadow(0px 1px 2px rgba(0, 0, 0, 0.3));\n",
              "      fill: #FFFFFF;\n",
              "    }\n",
              "  </style>\n",
              "\n",
              "      <script>\n",
              "        const buttonEl =\n",
              "          document.querySelector('#df-c046d69b-e26d-4dc3-ae24-849701ab17fc button.colab-df-convert');\n",
              "        buttonEl.style.display =\n",
              "          google.colab.kernel.accessAllowed ? 'block' : 'none';\n",
              "\n",
              "        async function convertToInteractive(key) {\n",
              "          const element = document.querySelector('#df-c046d69b-e26d-4dc3-ae24-849701ab17fc');\n",
              "          const dataTable =\n",
              "            await google.colab.kernel.invokeFunction('convertToInteractive',\n",
              "                                                     [key], {});\n",
              "          if (!dataTable) return;\n",
              "\n",
              "          const docLinkHtml = 'Like what you see? Visit the ' +\n",
              "            '<a target=\"_blank\" href=https://colab.research.google.com/notebooks/data_table.ipynb>data table notebook</a>'\n",
              "            + ' to learn more about interactive tables.';\n",
              "          element.innerHTML = '';\n",
              "          dataTable['output_type'] = 'display_data';\n",
              "          await google.colab.output.renderOutput(dataTable, element);\n",
              "          const docLink = document.createElement('div');\n",
              "          docLink.innerHTML = docLinkHtml;\n",
              "          element.appendChild(docLink);\n",
              "        }\n",
              "      </script>\n",
              "    </div>\n",
              "  </div>\n",
              "  "
            ],
            "text/plain": [
              "   Unnamed: 0  ...                                   sales_code_array\n",
              "0           0  ...  Z5E, M3E, A4S, Y1R, F5E, J3Y, X4M, J1Z, M5X, V...\n",
              "1           0  ...  Z5D, M2N, K1X, Q2Z, G0W, F0S, F0K, E4M, V2H, A...\n",
              "2           0  ...  Z5C, M2A, A5H, P7S, P2B, N8D, D4S, A3A, D4Q, I...\n",
              "3           0  ...  Z5F, M3P, D3H, C8C, Z9I, K6T, N2F, I1P, K3Z, Z...\n",
              "4           0  ...  Z5B, M1K, L1T, E6J, C6I, A2K, O0C, K1X, X1S, F...\n",
              "5           0  ...  Z5F, M3P, Z2Q, W1Z, I4E, K8X, V5W, R5N, W4C, U...\n",
              "6           0  ...  Z5B, M1H, W5U, C0U, M8C, C1M, W9I, P6Z, R6U, P...\n",
              "7           0  ...  Z5D, M2Q, K6Q, J1Y, U2G, N1Q, Q0H, J3Q, O4G, M...\n",
              "8           0  ...  Z5E, M3B, J3Q, E2M, P2Q, F1R, K1T, C4V, W8B, Z...\n",
              "9           0  ...  Z5B, M1H, J2E, G0N, N2R, C9H, K3V, U3M, W0M, S...\n",
              "\n",
              "[10 rows x 5 columns]"
            ]
          },
          "metadata": {},
          "execution_count": 4
        }
      ]
    },
    {
      "cell_type": "code",
      "source": [
        "#count null data\n",
        "dataframe_sales_codes.isnull().sum()"
      ],
      "metadata": {
        "colab": {
          "base_uri": "https://localhost:8080/"
        },
        "id": "V1UiHoqCKK7k",
        "outputId": "59459b97-045a-45b7-ebf5-29e4f746f0ca"
      },
      "execution_count": 5,
      "outputs": [
        {
          "output_type": "execute_result",
          "data": {
            "text/plain": [
              "Unnamed: 0           0\n",
              "h_vehicle_hash       5\n",
              "production_date      3\n",
              "country             10\n",
              "sales_code_array     0\n",
              "dtype: int64"
            ]
          },
          "metadata": {},
          "execution_count": 5
        }
      ]
    },
    {
      "cell_type": "code",
      "source": [
        "dataframe_vehicle_hash.head(10)"
      ],
      "metadata": {
        "colab": {
          "base_uri": "https://localhost:8080/",
          "height": 363
        },
        "id": "Z93oQ7HoJHgI",
        "outputId": "feb83c24-e3c0-49f9-b4b3-8c59ed29b35f"
      },
      "execution_count": 7,
      "outputs": [
        {
          "output_type": "execute_result",
          "data": {
            "text/html": [
              "\n",
              "  <div id=\"df-6447b634-931c-46e4-bdcc-6b81d69a9344\">\n",
              "    <div class=\"colab-df-container\">\n",
              "      <div>\n",
              "<style scoped>\n",
              "    .dataframe tbody tr th:only-of-type {\n",
              "        vertical-align: middle;\n",
              "    }\n",
              "\n",
              "    .dataframe tbody tr th {\n",
              "        vertical-align: top;\n",
              "    }\n",
              "\n",
              "    .dataframe thead th {\n",
              "        text-align: right;\n",
              "    }\n",
              "</style>\n",
              "<table border=\"1\" class=\"dataframe\">\n",
              "  <thead>\n",
              "    <tr style=\"text-align: right;\">\n",
              "      <th></th>\n",
              "      <th>Unnamed: 0</th>\n",
              "      <th>h_vehicle_hash</th>\n",
              "      <th>fin</th>\n",
              "      <th>record_source</th>\n",
              "      <th>load_ts</th>\n",
              "    </tr>\n",
              "  </thead>\n",
              "  <tbody>\n",
              "    <tr>\n",
              "      <th>0</th>\n",
              "      <td>0</td>\n",
              "      <td>924d229bede272c5a3b440c464cd1dfb74cae74d</td>\n",
              "      <td>WEB14561113188001</td>\n",
              "      <td>vedoc</td>\n",
              "      <td>2021-11-26 12:22:39.105133</td>\n",
              "    </tr>\n",
              "    <tr>\n",
              "      <th>1</th>\n",
              "      <td>0</td>\n",
              "      <td>3787a8db036dabd7433a32eaeeca8e5758bc3df8</td>\n",
              "      <td>W1T61600516560507</td>\n",
              "      <td>vedoc</td>\n",
              "      <td>2021-11-26 12:22:39.106127</td>\n",
              "    </tr>\n",
              "    <tr>\n",
              "      <th>2</th>\n",
              "      <td>0</td>\n",
              "      <td>aea31cdf4f575acf190626a50e927547e683d2ac</td>\n",
              "      <td>WEB74212637167838</td>\n",
              "      <td>vedoc</td>\n",
              "      <td>2021-11-26 12:22:39.106862</td>\n",
              "    </tr>\n",
              "    <tr>\n",
              "      <th>3</th>\n",
              "      <td>0</td>\n",
              "      <td>d92ed338496281e08443c88583be06128a2d4b42</td>\n",
              "      <td>WDB73045113294326</td>\n",
              "      <td>vedoc</td>\n",
              "      <td>2021-11-26 12:22:39.107558</td>\n",
              "    </tr>\n",
              "    <tr>\n",
              "      <th>4</th>\n",
              "      <td>0</td>\n",
              "      <td>7934c4872515da4b1c9648d01c0813f81c496aff</td>\n",
              "      <td>W1T38483757441350</td>\n",
              "      <td>vedoc</td>\n",
              "      <td>2021-11-26 12:22:39.108218</td>\n",
              "    </tr>\n",
              "    <tr>\n",
              "      <th>5</th>\n",
              "      <td>0</td>\n",
              "      <td>14099ecd0625030ad276cf651a9ce9c34ca50088</td>\n",
              "      <td>WEB82551539603557</td>\n",
              "      <td>vedoc</td>\n",
              "      <td>2021-11-26 12:22:39.108881</td>\n",
              "    </tr>\n",
              "    <tr>\n",
              "      <th>6</th>\n",
              "      <td>0</td>\n",
              "      <td>31af1c9e3162b07c36234b181aa44ca2a045b629</td>\n",
              "      <td>W1T84369654532934</td>\n",
              "      <td>vedoc</td>\n",
              "      <td>2021-11-26 12:22:39.109538</td>\n",
              "    </tr>\n",
              "    <tr>\n",
              "      <th>7</th>\n",
              "      <td>0</td>\n",
              "      <td>79313aefe4936c52ffba6a0dabdef2bcd0a69c21</td>\n",
              "      <td>WDB11960124228241</td>\n",
              "      <td>vedoc</td>\n",
              "      <td>2021-11-26 12:22:39.110190</td>\n",
              "    </tr>\n",
              "    <tr>\n",
              "      <th>8</th>\n",
              "      <td>0</td>\n",
              "      <td>5b15f251639c1ff25ca15e9c2ec570bef949000f</td>\n",
              "      <td>WDB85824751704234</td>\n",
              "      <td>vedoc</td>\n",
              "      <td>2021-11-26 12:22:39.110848</td>\n",
              "    </tr>\n",
              "    <tr>\n",
              "      <th>9</th>\n",
              "      <td>0</td>\n",
              "      <td>70d85da3bc330c69b31efcb70e486cdb8e6ac547</td>\n",
              "      <td>NMB84740361813870</td>\n",
              "      <td>vedoc</td>\n",
              "      <td>2021-11-26 12:22:39.111512</td>\n",
              "    </tr>\n",
              "  </tbody>\n",
              "</table>\n",
              "</div>\n",
              "      <button class=\"colab-df-convert\" onclick=\"convertToInteractive('df-6447b634-931c-46e4-bdcc-6b81d69a9344')\"\n",
              "              title=\"Convert this dataframe to an interactive table.\"\n",
              "              style=\"display:none;\">\n",
              "        \n",
              "  <svg xmlns=\"http://www.w3.org/2000/svg\" height=\"24px\"viewBox=\"0 0 24 24\"\n",
              "       width=\"24px\">\n",
              "    <path d=\"M0 0h24v24H0V0z\" fill=\"none\"/>\n",
              "    <path d=\"M18.56 5.44l.94 2.06.94-2.06 2.06-.94-2.06-.94-.94-2.06-.94 2.06-2.06.94zm-11 1L8.5 8.5l.94-2.06 2.06-.94-2.06-.94L8.5 2.5l-.94 2.06-2.06.94zm10 10l.94 2.06.94-2.06 2.06-.94-2.06-.94-.94-2.06-.94 2.06-2.06.94z\"/><path d=\"M17.41 7.96l-1.37-1.37c-.4-.4-.92-.59-1.43-.59-.52 0-1.04.2-1.43.59L10.3 9.45l-7.72 7.72c-.78.78-.78 2.05 0 2.83L4 21.41c.39.39.9.59 1.41.59.51 0 1.02-.2 1.41-.59l7.78-7.78 2.81-2.81c.8-.78.8-2.07 0-2.86zM5.41 20L4 18.59l7.72-7.72 1.47 1.35L5.41 20z\"/>\n",
              "  </svg>\n",
              "      </button>\n",
              "      \n",
              "  <style>\n",
              "    .colab-df-container {\n",
              "      display:flex;\n",
              "      flex-wrap:wrap;\n",
              "      gap: 12px;\n",
              "    }\n",
              "\n",
              "    .colab-df-convert {\n",
              "      background-color: #E8F0FE;\n",
              "      border: none;\n",
              "      border-radius: 50%;\n",
              "      cursor: pointer;\n",
              "      display: none;\n",
              "      fill: #1967D2;\n",
              "      height: 32px;\n",
              "      padding: 0 0 0 0;\n",
              "      width: 32px;\n",
              "    }\n",
              "\n",
              "    .colab-df-convert:hover {\n",
              "      background-color: #E2EBFA;\n",
              "      box-shadow: 0px 1px 2px rgba(60, 64, 67, 0.3), 0px 1px 3px 1px rgba(60, 64, 67, 0.15);\n",
              "      fill: #174EA6;\n",
              "    }\n",
              "\n",
              "    [theme=dark] .colab-df-convert {\n",
              "      background-color: #3B4455;\n",
              "      fill: #D2E3FC;\n",
              "    }\n",
              "\n",
              "    [theme=dark] .colab-df-convert:hover {\n",
              "      background-color: #434B5C;\n",
              "      box-shadow: 0px 1px 3px 1px rgba(0, 0, 0, 0.15);\n",
              "      filter: drop-shadow(0px 1px 2px rgba(0, 0, 0, 0.3));\n",
              "      fill: #FFFFFF;\n",
              "    }\n",
              "  </style>\n",
              "\n",
              "      <script>\n",
              "        const buttonEl =\n",
              "          document.querySelector('#df-6447b634-931c-46e4-bdcc-6b81d69a9344 button.colab-df-convert');\n",
              "        buttonEl.style.display =\n",
              "          google.colab.kernel.accessAllowed ? 'block' : 'none';\n",
              "\n",
              "        async function convertToInteractive(key) {\n",
              "          const element = document.querySelector('#df-6447b634-931c-46e4-bdcc-6b81d69a9344');\n",
              "          const dataTable =\n",
              "            await google.colab.kernel.invokeFunction('convertToInteractive',\n",
              "                                                     [key], {});\n",
              "          if (!dataTable) return;\n",
              "\n",
              "          const docLinkHtml = 'Like what you see? Visit the ' +\n",
              "            '<a target=\"_blank\" href=https://colab.research.google.com/notebooks/data_table.ipynb>data table notebook</a>'\n",
              "            + ' to learn more about interactive tables.';\n",
              "          element.innerHTML = '';\n",
              "          dataTable['output_type'] = 'display_data';\n",
              "          await google.colab.output.renderOutput(dataTable, element);\n",
              "          const docLink = document.createElement('div');\n",
              "          docLink.innerHTML = docLinkHtml;\n",
              "          element.appendChild(docLink);\n",
              "        }\n",
              "      </script>\n",
              "    </div>\n",
              "  </div>\n",
              "  "
            ],
            "text/plain": [
              "   Unnamed: 0  ...                     load_ts\n",
              "0           0  ...  2021-11-26 12:22:39.105133\n",
              "1           0  ...  2021-11-26 12:22:39.106127\n",
              "2           0  ...  2021-11-26 12:22:39.106862\n",
              "3           0  ...  2021-11-26 12:22:39.107558\n",
              "4           0  ...  2021-11-26 12:22:39.108218\n",
              "5           0  ...  2021-11-26 12:22:39.108881\n",
              "6           0  ...  2021-11-26 12:22:39.109538\n",
              "7           0  ...  2021-11-26 12:22:39.110190\n",
              "8           0  ...  2021-11-26 12:22:39.110848\n",
              "9           0  ...  2021-11-26 12:22:39.111512\n",
              "\n",
              "[10 rows x 5 columns]"
            ]
          },
          "metadata": {},
          "execution_count": 7
        }
      ]
    },
    {
      "cell_type": "code",
      "source": [
        "#Match the hash from sales_code and Vehicle_hash sheets\n",
        "count = 0\n",
        "for i in range(500):\n",
        "  if dataframe_sales_codes['h_vehicle_hash'][i] == dataframe_vehicle_hash['h_vehicle_hash'][i]:\n",
        "    count = count + 1\n",
        "print(count)"
      ],
      "metadata": {
        "colab": {
          "base_uri": "https://localhost:8080/"
        },
        "id": "cgQIDJtLXdTZ",
        "outputId": "08d56b9a-3623-4b41-a262-d8262140b395"
      },
      "execution_count": 8,
      "outputs": [
        {
          "output_type": "stream",
          "name": "stdout",
          "text": [
            "495\n"
          ]
        }
      ]
    },
    {
      "cell_type": "code",
      "source": [
        "#Combine fin, production_date, country, sales_code_array\n",
        "\n",
        "data = [dataframe_sales_codes[['production_date','country','sales_code_array']], dataframe_vehicle_hash[\"fin\"]]\n",
        "combined = pd.concat(data, axis=1)"
      ],
      "metadata": {
        "id": "g9Z--KRbbK46"
      },
      "execution_count": 9,
      "outputs": []
    },
    {
      "cell_type": "code",
      "source": [
        "combined.isnull().sum().sum()"
      ],
      "metadata": {
        "colab": {
          "base_uri": "https://localhost:8080/"
        },
        "id": "5dfeGrcVcgN9",
        "outputId": "bc144bcc-b2df-4beb-f1c4-f3d41dfdeee4"
      },
      "execution_count": 10,
      "outputs": [
        {
          "output_type": "execute_result",
          "data": {
            "text/plain": [
              "13"
            ]
          },
          "metadata": {},
          "execution_count": 10
        }
      ]
    },
    {
      "cell_type": "code",
      "source": [
        "combined = combined.dropna()\n",
        "combined.shape"
      ],
      "metadata": {
        "colab": {
          "base_uri": "https://localhost:8080/"
        },
        "id": "fSiIHMu6dCGE",
        "outputId": "3cc81691-e1d2-4037-b4cb-b9bc8497310a"
      },
      "execution_count": 11,
      "outputs": [
        {
          "output_type": "execute_result",
          "data": {
            "text/plain": [
              "(487, 4)"
            ]
          },
          "metadata": {},
          "execution_count": 11
        }
      ]
    },
    {
      "cell_type": "code",
      "source": [
        "# create the combined file with 4 columns\n",
        "combined.to_excel(\"combined.xlsx\")"
      ],
      "metadata": {
        "id": "I-KKpc4OdmtY"
      },
      "execution_count": 12,
      "outputs": []
    },
    {
      "cell_type": "code",
      "source": [
        "dataframe_vehicle_hash.isnull().sum()"
      ],
      "metadata": {
        "colab": {
          "base_uri": "https://localhost:8080/"
        },
        "id": "KUgFvEysKOUW",
        "outputId": "1d114b8e-e036-4d8b-cb91-f07f3659daf4"
      },
      "execution_count": 13,
      "outputs": [
        {
          "output_type": "execute_result",
          "data": {
            "text/plain": [
              "Unnamed: 0        0\n",
              "h_vehicle_hash    0\n",
              "fin               0\n",
              "record_source     0\n",
              "load_ts           0\n",
              "dtype: int64"
            ]
          },
          "metadata": {},
          "execution_count": 13
        }
      ]
    },
    {
      "cell_type": "code",
      "source": [
        "dataframe_engines"
      ],
      "metadata": {
        "colab": {
          "base_uri": "https://localhost:8080/",
          "height": 332
        },
        "id": "J5aT5Dw9ILd9",
        "outputId": "32c55084-1649-4d99-f5d7-28a7751c91cb"
      },
      "execution_count": 14,
      "outputs": [
        {
          "output_type": "execute_result",
          "data": {
            "text/html": [
              "\n",
              "  <div id=\"df-50f372fa-c0e0-4f72-b4a7-3efa0c46a030\">\n",
              "    <div class=\"colab-df-container\">\n",
              "      <div>\n",
              "<style scoped>\n",
              "    .dataframe tbody tr th:only-of-type {\n",
              "        vertical-align: middle;\n",
              "    }\n",
              "\n",
              "    .dataframe tbody tr th {\n",
              "        vertical-align: top;\n",
              "    }\n",
              "\n",
              "    .dataframe thead th {\n",
              "        text-align: right;\n",
              "    }\n",
              "</style>\n",
              "<table border=\"1\" class=\"dataframe\">\n",
              "  <thead>\n",
              "    <tr style=\"text-align: right;\">\n",
              "      <th></th>\n",
              "      <th>Code Group Id</th>\n",
              "      <th>Code Group Name En</th>\n",
              "      <th>Code Group Name De</th>\n",
              "      <th>Folder Name</th>\n",
              "      <th>Sales Code</th>\n",
              "      <th>Code Description En</th>\n",
              "      <th>Code Description De</th>\n",
              "    </tr>\n",
              "  </thead>\n",
              "  <tbody>\n",
              "    <tr>\n",
              "      <th>0</th>\n",
              "      <td>131</td>\n",
              "      <td>powertrain engine series</td>\n",
              "      <td>motor baureihe</td>\n",
              "      <td>06 Powertrain</td>\n",
              "      <td>M0I</td>\n",
              "      <td>OM 924</td>\n",
              "      <td>OM 924</td>\n",
              "    </tr>\n",
              "    <tr>\n",
              "      <th>1</th>\n",
              "      <td>131</td>\n",
              "      <td>powertrain engine series</td>\n",
              "      <td>motor baureihe</td>\n",
              "      <td>06 Powertrain</td>\n",
              "      <td>M0J</td>\n",
              "      <td>OM 926</td>\n",
              "      <td>OM 926</td>\n",
              "    </tr>\n",
              "    <tr>\n",
              "      <th>2</th>\n",
              "      <td>131</td>\n",
              "      <td>powertrain engine series</td>\n",
              "      <td>motor baureihe</td>\n",
              "      <td>06 Powertrain</td>\n",
              "      <td>Z5A</td>\n",
              "      <td>M 936G</td>\n",
              "      <td>M 936G</td>\n",
              "    </tr>\n",
              "    <tr>\n",
              "      <th>3</th>\n",
              "      <td>131</td>\n",
              "      <td>powertrain engine series</td>\n",
              "      <td>motor baureihe</td>\n",
              "      <td>06 Powertrain</td>\n",
              "      <td>Z5B</td>\n",
              "      <td>OM 934</td>\n",
              "      <td>OM 934</td>\n",
              "    </tr>\n",
              "    <tr>\n",
              "      <th>4</th>\n",
              "      <td>131</td>\n",
              "      <td>powertrain engine series</td>\n",
              "      <td>motor baureihe</td>\n",
              "      <td>06 Powertrain</td>\n",
              "      <td>Z5C</td>\n",
              "      <td>OM 936</td>\n",
              "      <td>OM 936</td>\n",
              "    </tr>\n",
              "    <tr>\n",
              "      <th>5</th>\n",
              "      <td>131</td>\n",
              "      <td>powertrain engine series</td>\n",
              "      <td>motor baureihe</td>\n",
              "      <td>06 Powertrain</td>\n",
              "      <td>Z5D</td>\n",
              "      <td>OM 470</td>\n",
              "      <td>OM 470</td>\n",
              "    </tr>\n",
              "    <tr>\n",
              "      <th>6</th>\n",
              "      <td>131</td>\n",
              "      <td>powertrain engine series</td>\n",
              "      <td>motor baureihe</td>\n",
              "      <td>06 Powertrain</td>\n",
              "      <td>Z5E</td>\n",
              "      <td>OM 471</td>\n",
              "      <td>OM 471</td>\n",
              "    </tr>\n",
              "    <tr>\n",
              "      <th>7</th>\n",
              "      <td>131</td>\n",
              "      <td>powertrain engine series</td>\n",
              "      <td>motor baureihe</td>\n",
              "      <td>06 Powertrain</td>\n",
              "      <td>Z5F</td>\n",
              "      <td>OM 473</td>\n",
              "      <td>OM 473</td>\n",
              "    </tr>\n",
              "    <tr>\n",
              "      <th>8</th>\n",
              "      <td>131</td>\n",
              "      <td>powertrain engine series</td>\n",
              "      <td>motor baureihe</td>\n",
              "      <td>06 Powertrain</td>\n",
              "      <td>Z5L</td>\n",
              "      <td>OM 460</td>\n",
              "      <td>OM 460</td>\n",
              "    </tr>\n",
              "  </tbody>\n",
              "</table>\n",
              "</div>\n",
              "      <button class=\"colab-df-convert\" onclick=\"convertToInteractive('df-50f372fa-c0e0-4f72-b4a7-3efa0c46a030')\"\n",
              "              title=\"Convert this dataframe to an interactive table.\"\n",
              "              style=\"display:none;\">\n",
              "        \n",
              "  <svg xmlns=\"http://www.w3.org/2000/svg\" height=\"24px\"viewBox=\"0 0 24 24\"\n",
              "       width=\"24px\">\n",
              "    <path d=\"M0 0h24v24H0V0z\" fill=\"none\"/>\n",
              "    <path d=\"M18.56 5.44l.94 2.06.94-2.06 2.06-.94-2.06-.94-.94-2.06-.94 2.06-2.06.94zm-11 1L8.5 8.5l.94-2.06 2.06-.94-2.06-.94L8.5 2.5l-.94 2.06-2.06.94zm10 10l.94 2.06.94-2.06 2.06-.94-2.06-.94-.94-2.06-.94 2.06-2.06.94z\"/><path d=\"M17.41 7.96l-1.37-1.37c-.4-.4-.92-.59-1.43-.59-.52 0-1.04.2-1.43.59L10.3 9.45l-7.72 7.72c-.78.78-.78 2.05 0 2.83L4 21.41c.39.39.9.59 1.41.59.51 0 1.02-.2 1.41-.59l7.78-7.78 2.81-2.81c.8-.78.8-2.07 0-2.86zM5.41 20L4 18.59l7.72-7.72 1.47 1.35L5.41 20z\"/>\n",
              "  </svg>\n",
              "      </button>\n",
              "      \n",
              "  <style>\n",
              "    .colab-df-container {\n",
              "      display:flex;\n",
              "      flex-wrap:wrap;\n",
              "      gap: 12px;\n",
              "    }\n",
              "\n",
              "    .colab-df-convert {\n",
              "      background-color: #E8F0FE;\n",
              "      border: none;\n",
              "      border-radius: 50%;\n",
              "      cursor: pointer;\n",
              "      display: none;\n",
              "      fill: #1967D2;\n",
              "      height: 32px;\n",
              "      padding: 0 0 0 0;\n",
              "      width: 32px;\n",
              "    }\n",
              "\n",
              "    .colab-df-convert:hover {\n",
              "      background-color: #E2EBFA;\n",
              "      box-shadow: 0px 1px 2px rgba(60, 64, 67, 0.3), 0px 1px 3px 1px rgba(60, 64, 67, 0.15);\n",
              "      fill: #174EA6;\n",
              "    }\n",
              "\n",
              "    [theme=dark] .colab-df-convert {\n",
              "      background-color: #3B4455;\n",
              "      fill: #D2E3FC;\n",
              "    }\n",
              "\n",
              "    [theme=dark] .colab-df-convert:hover {\n",
              "      background-color: #434B5C;\n",
              "      box-shadow: 0px 1px 3px 1px rgba(0, 0, 0, 0.15);\n",
              "      filter: drop-shadow(0px 1px 2px rgba(0, 0, 0, 0.3));\n",
              "      fill: #FFFFFF;\n",
              "    }\n",
              "  </style>\n",
              "\n",
              "      <script>\n",
              "        const buttonEl =\n",
              "          document.querySelector('#df-50f372fa-c0e0-4f72-b4a7-3efa0c46a030 button.colab-df-convert');\n",
              "        buttonEl.style.display =\n",
              "          google.colab.kernel.accessAllowed ? 'block' : 'none';\n",
              "\n",
              "        async function convertToInteractive(key) {\n",
              "          const element = document.querySelector('#df-50f372fa-c0e0-4f72-b4a7-3efa0c46a030');\n",
              "          const dataTable =\n",
              "            await google.colab.kernel.invokeFunction('convertToInteractive',\n",
              "                                                     [key], {});\n",
              "          if (!dataTable) return;\n",
              "\n",
              "          const docLinkHtml = 'Like what you see? Visit the ' +\n",
              "            '<a target=\"_blank\" href=https://colab.research.google.com/notebooks/data_table.ipynb>data table notebook</a>'\n",
              "            + ' to learn more about interactive tables.';\n",
              "          element.innerHTML = '';\n",
              "          dataTable['output_type'] = 'display_data';\n",
              "          await google.colab.output.renderOutput(dataTable, element);\n",
              "          const docLink = document.createElement('div');\n",
              "          docLink.innerHTML = docLinkHtml;\n",
              "          element.appendChild(docLink);\n",
              "        }\n",
              "      </script>\n",
              "    </div>\n",
              "  </div>\n",
              "  "
            ],
            "text/plain": [
              "   Code Group Id  ... Code Description De\n",
              "0            131  ...              OM 924\n",
              "1            131  ...              OM 926\n",
              "2            131  ...              M 936G\n",
              "3            131  ...              OM 934\n",
              "4            131  ...              OM 936\n",
              "5            131  ...              OM 470\n",
              "6            131  ...              OM 471\n",
              "7            131  ...              OM 473\n",
              "8            131  ...              OM 460\n",
              "\n",
              "[9 rows x 7 columns]"
            ]
          },
          "metadata": {},
          "execution_count": 14
        }
      ]
    },
    {
      "cell_type": "code",
      "source": [
        "dataframe_engines.isnull().sum()"
      ],
      "metadata": {
        "colab": {
          "base_uri": "https://localhost:8080/"
        },
        "id": "JFz69MJNJ_-q",
        "outputId": "46b2a54d-4d52-4ad5-d146-1749db2511ce"
      },
      "execution_count": 15,
      "outputs": [
        {
          "output_type": "execute_result",
          "data": {
            "text/plain": [
              "Code Group Id          0\n",
              "Code Group Name En     0\n",
              "Code Group Name De     0\n",
              "Folder Name            0\n",
              "Sales Code             0\n",
              "Code Description En    0\n",
              "Code Description De    0\n",
              "dtype: int64"
            ]
          },
          "metadata": {},
          "execution_count": 15
        }
      ]
    },
    {
      "cell_type": "code",
      "source": [
        "combined.dtypes"
      ],
      "metadata": {
        "colab": {
          "base_uri": "https://localhost:8080/"
        },
        "id": "v5-ecV_Q5Ov5",
        "outputId": "3f609d2e-ea43-47f8-fb7b-add4c00b7a7d"
      },
      "execution_count": 51,
      "outputs": [
        {
          "output_type": "execute_result",
          "data": {
            "text/plain": [
              "production_date     object\n",
              "country             object\n",
              "sales_code_array    object\n",
              "fin                 object\n",
              "dtype: object"
            ]
          },
          "metadata": {},
          "execution_count": 51
        }
      ]
    },
    {
      "cell_type": "code",
      "source": [
        "combineddf = pd.read_excel(\"combined.xlsx\")\n",
        "FEATURE_COLUMNS = combineddf.columns.tolist()[1:5]\n",
        "combineddf = combineddf[FEATURE_COLUMNS]\n",
        "combineddf"
      ],
      "metadata": {
        "colab": {
          "base_uri": "https://localhost:8080/",
          "height": 424
        },
        "id": "5Q2zfpf6ORZn",
        "outputId": "a11d3c9e-a93c-44c2-89e7-c849f02db7f4"
      },
      "execution_count": 52,
      "outputs": [
        {
          "output_type": "execute_result",
          "data": {
            "text/html": [
              "\n",
              "  <div id=\"df-eef718a0-f848-4b44-b517-500fb36b1481\">\n",
              "    <div class=\"colab-df-container\">\n",
              "      <div>\n",
              "<style scoped>\n",
              "    .dataframe tbody tr th:only-of-type {\n",
              "        vertical-align: middle;\n",
              "    }\n",
              "\n",
              "    .dataframe tbody tr th {\n",
              "        vertical-align: top;\n",
              "    }\n",
              "\n",
              "    .dataframe thead th {\n",
              "        text-align: right;\n",
              "    }\n",
              "</style>\n",
              "<table border=\"1\" class=\"dataframe\">\n",
              "  <thead>\n",
              "    <tr style=\"text-align: right;\">\n",
              "      <th></th>\n",
              "      <th>production_date</th>\n",
              "      <th>country</th>\n",
              "      <th>sales_code_array</th>\n",
              "      <th>fin</th>\n",
              "    </tr>\n",
              "  </thead>\n",
              "  <tbody>\n",
              "    <tr>\n",
              "      <th>0</th>\n",
              "      <td>2013-02-05 00:00:00</td>\n",
              "      <td>Namibia</td>\n",
              "      <td>Z5E, M3E, A4S, Y1R, F5E, J3Y, X4M, J1Z, M5X, V...</td>\n",
              "      <td>WEB14561113188001</td>\n",
              "    </tr>\n",
              "    <tr>\n",
              "      <th>1</th>\n",
              "      <td>2012-08-27 00:00:00</td>\n",
              "      <td>Germany</td>\n",
              "      <td>Z5D, M2N, K1X, Q2Z, G0W, F0S, F0K, E4M, V2H, A...</td>\n",
              "      <td>W1T61600516560507</td>\n",
              "    </tr>\n",
              "    <tr>\n",
              "      <th>2</th>\n",
              "      <td>2015-08-11 00:00:00</td>\n",
              "      <td>Germany</td>\n",
              "      <td>Z5C, M2A, A5H, P7S, P2B, N8D, D4S, A3A, D4Q, I...</td>\n",
              "      <td>WEB74212637167838</td>\n",
              "    </tr>\n",
              "    <tr>\n",
              "      <th>3</th>\n",
              "      <td>2015-02-22 00:00:00</td>\n",
              "      <td>Lithuania</td>\n",
              "      <td>Z5F, M3P, D3H, C8C, Z9I, K6T, N2F, I1P, K3Z, Z...</td>\n",
              "      <td>WDB73045113294326</td>\n",
              "    </tr>\n",
              "    <tr>\n",
              "      <th>4</th>\n",
              "      <td>2017-03-10 00:00:00</td>\n",
              "      <td>Germany</td>\n",
              "      <td>Z5B, M1K, L1T, E6J, C6I, A2K, O0C, K1X, X1S, F...</td>\n",
              "      <td>W1T38483757441350</td>\n",
              "    </tr>\n",
              "    <tr>\n",
              "      <th>...</th>\n",
              "      <td>...</td>\n",
              "      <td>...</td>\n",
              "      <td>...</td>\n",
              "      <td>...</td>\n",
              "    </tr>\n",
              "    <tr>\n",
              "      <th>482</th>\n",
              "      <td>2015-06-09 00:00:00</td>\n",
              "      <td>Qatar</td>\n",
              "      <td>Z5F, M3V, N8K, Q2E, X3I, F5Q, D7F, E3T, D0B, D...</td>\n",
              "      <td>W1T99474807741610</td>\n",
              "    </tr>\n",
              "    <tr>\n",
              "      <th>483</th>\n",
              "      <td>2019-08-22 00:00:00</td>\n",
              "      <td>Costa Rica</td>\n",
              "      <td>Z5E, M3A, Q2V, Q4X, B1D, R2J, P9T, F6A, E2I, I...</td>\n",
              "      <td>WDB18710120505219</td>\n",
              "    </tr>\n",
              "    <tr>\n",
              "      <th>484</th>\n",
              "      <td>2018-05-03 00:00:00</td>\n",
              "      <td>Germany</td>\n",
              "      <td>Z5L, M3J, A4M, P6Y, C7E, A1H, V6G, D5N, E0N, K...</td>\n",
              "      <td>W1T98661055753711</td>\n",
              "    </tr>\n",
              "    <tr>\n",
              "      <th>485</th>\n",
              "      <td>2016-04-11 00:00:00</td>\n",
              "      <td>Algeria</td>\n",
              "      <td>Z5E, M3B, U3M, J2O, I5B, Z0M, X2C, I6P, I1C, V...</td>\n",
              "      <td>WEB13403470635841</td>\n",
              "    </tr>\n",
              "    <tr>\n",
              "      <th>486</th>\n",
              "      <td>2012-09-25 00:00:00</td>\n",
              "      <td>Germany</td>\n",
              "      <td>Z5C, M2F, E5A, W2A, N8H, J2E, D9Y, L9B, U2S, C...</td>\n",
              "      <td>NMB51666319007352</td>\n",
              "    </tr>\n",
              "  </tbody>\n",
              "</table>\n",
              "<p>487 rows × 4 columns</p>\n",
              "</div>\n",
              "      <button class=\"colab-df-convert\" onclick=\"convertToInteractive('df-eef718a0-f848-4b44-b517-500fb36b1481')\"\n",
              "              title=\"Convert this dataframe to an interactive table.\"\n",
              "              style=\"display:none;\">\n",
              "        \n",
              "  <svg xmlns=\"http://www.w3.org/2000/svg\" height=\"24px\"viewBox=\"0 0 24 24\"\n",
              "       width=\"24px\">\n",
              "    <path d=\"M0 0h24v24H0V0z\" fill=\"none\"/>\n",
              "    <path d=\"M18.56 5.44l.94 2.06.94-2.06 2.06-.94-2.06-.94-.94-2.06-.94 2.06-2.06.94zm-11 1L8.5 8.5l.94-2.06 2.06-.94-2.06-.94L8.5 2.5l-.94 2.06-2.06.94zm10 10l.94 2.06.94-2.06 2.06-.94-2.06-.94-.94-2.06-.94 2.06-2.06.94z\"/><path d=\"M17.41 7.96l-1.37-1.37c-.4-.4-.92-.59-1.43-.59-.52 0-1.04.2-1.43.59L10.3 9.45l-7.72 7.72c-.78.78-.78 2.05 0 2.83L4 21.41c.39.39.9.59 1.41.59.51 0 1.02-.2 1.41-.59l7.78-7.78 2.81-2.81c.8-.78.8-2.07 0-2.86zM5.41 20L4 18.59l7.72-7.72 1.47 1.35L5.41 20z\"/>\n",
              "  </svg>\n",
              "      </button>\n",
              "      \n",
              "  <style>\n",
              "    .colab-df-container {\n",
              "      display:flex;\n",
              "      flex-wrap:wrap;\n",
              "      gap: 12px;\n",
              "    }\n",
              "\n",
              "    .colab-df-convert {\n",
              "      background-color: #E8F0FE;\n",
              "      border: none;\n",
              "      border-radius: 50%;\n",
              "      cursor: pointer;\n",
              "      display: none;\n",
              "      fill: #1967D2;\n",
              "      height: 32px;\n",
              "      padding: 0 0 0 0;\n",
              "      width: 32px;\n",
              "    }\n",
              "\n",
              "    .colab-df-convert:hover {\n",
              "      background-color: #E2EBFA;\n",
              "      box-shadow: 0px 1px 2px rgba(60, 64, 67, 0.3), 0px 1px 3px 1px rgba(60, 64, 67, 0.15);\n",
              "      fill: #174EA6;\n",
              "    }\n",
              "\n",
              "    [theme=dark] .colab-df-convert {\n",
              "      background-color: #3B4455;\n",
              "      fill: #D2E3FC;\n",
              "    }\n",
              "\n",
              "    [theme=dark] .colab-df-convert:hover {\n",
              "      background-color: #434B5C;\n",
              "      box-shadow: 0px 1px 3px 1px rgba(0, 0, 0, 0.15);\n",
              "      filter: drop-shadow(0px 1px 2px rgba(0, 0, 0, 0.3));\n",
              "      fill: #FFFFFF;\n",
              "    }\n",
              "  </style>\n",
              "\n",
              "      <script>\n",
              "        const buttonEl =\n",
              "          document.querySelector('#df-eef718a0-f848-4b44-b517-500fb36b1481 button.colab-df-convert');\n",
              "        buttonEl.style.display =\n",
              "          google.colab.kernel.accessAllowed ? 'block' : 'none';\n",
              "\n",
              "        async function convertToInteractive(key) {\n",
              "          const element = document.querySelector('#df-eef718a0-f848-4b44-b517-500fb36b1481');\n",
              "          const dataTable =\n",
              "            await google.colab.kernel.invokeFunction('convertToInteractive',\n",
              "                                                     [key], {});\n",
              "          if (!dataTable) return;\n",
              "\n",
              "          const docLinkHtml = 'Like what you see? Visit the ' +\n",
              "            '<a target=\"_blank\" href=https://colab.research.google.com/notebooks/data_table.ipynb>data table notebook</a>'\n",
              "            + ' to learn more about interactive tables.';\n",
              "          element.innerHTML = '';\n",
              "          dataTable['output_type'] = 'display_data';\n",
              "          await google.colab.output.renderOutput(dataTable, element);\n",
              "          const docLink = document.createElement('div');\n",
              "          docLink.innerHTML = docLinkHtml;\n",
              "          element.appendChild(docLink);\n",
              "        }\n",
              "      </script>\n",
              "    </div>\n",
              "  </div>\n",
              "  "
            ],
            "text/plain": [
              "         production_date  ...                fin\n",
              "0    2013-02-05 00:00:00  ...  WEB14561113188001\n",
              "1    2012-08-27 00:00:00  ...  W1T61600516560507\n",
              "2    2015-08-11 00:00:00  ...  WEB74212637167838\n",
              "3    2015-02-22 00:00:00  ...  WDB73045113294326\n",
              "4    2017-03-10 00:00:00  ...  W1T38483757441350\n",
              "..                   ...  ...                ...\n",
              "482  2015-06-09 00:00:00  ...  W1T99474807741610\n",
              "483  2019-08-22 00:00:00  ...  WDB18710120505219\n",
              "484  2018-05-03 00:00:00  ...  W1T98661055753711\n",
              "485  2016-04-11 00:00:00  ...  WEB13403470635841\n",
              "486  2012-09-25 00:00:00  ...  NMB51666319007352\n",
              "\n",
              "[487 rows x 4 columns]"
            ]
          },
          "metadata": {},
          "execution_count": 52
        }
      ]
    },
    {
      "cell_type": "code",
      "source": [
        "# convert date format\n",
        "count=0\n",
        "index_date = []\n",
        "today = pd.to_datetime(\"today\")\n",
        "for i in range(487):\n",
        "  try:\n",
        "    #print(combined['production_date'][i])\n",
        "    combineddf['production_date'][i] = pd.to_datetime(combineddf['production_date'][i])\n",
        "    if(combineddf['production_date'][i] > today):\n",
        "      index_date.append(i)\n",
        "  except:\n",
        "    index_date.append(i)\n"
      ],
      "metadata": {
        "id": "5mCnBmS15bCC"
      },
      "execution_count": 53,
      "outputs": []
    },
    {
      "cell_type": "code",
      "source": [
        "# stored wrong format dates in to index_date\n",
        "index_date"
      ],
      "metadata": {
        "colab": {
          "base_uri": "https://localhost:8080/"
        },
        "id": "IiuRvVNgVumf",
        "outputId": "068c8e27-7658-480d-9764-05d1d7174500"
      },
      "execution_count": 54,
      "outputs": [
        {
          "output_type": "execute_result",
          "data": {
            "text/plain": [
              "[287, 316, 337, 344]"
            ]
          },
          "metadata": {},
          "execution_count": 54
        }
      ]
    },
    {
      "cell_type": "code",
      "source": [
        "combineddf = combineddf.drop(index_date)"
      ],
      "metadata": {
        "id": "fd2o1EgSKEtH"
      },
      "execution_count": 55,
      "outputs": []
    },
    {
      "cell_type": "code",
      "source": [
        "combineddf.to_excel(\"combinedNEW.xlsx\")"
      ],
      "metadata": {
        "id": "IkRzimc9PdxB"
      },
      "execution_count": 61,
      "outputs": []
    },
    {
      "cell_type": "code",
      "source": [
        "newDF = pd.read_excel(\"combinedNEW.xlsx\")\n",
        "FEATURE_COLUMNS = newDF.columns.tolist()[1:5]\n",
        "newDF = newDF[FEATURE_COLUMNS]\n",
        "newDF.shape"
      ],
      "metadata": {
        "colab": {
          "base_uri": "https://localhost:8080/"
        },
        "id": "X2ps4IDXPnJl",
        "outputId": "14982e05-90d6-4a1b-bd3b-11e255eabdc2"
      },
      "execution_count": 62,
      "outputs": [
        {
          "output_type": "execute_result",
          "data": {
            "text/plain": [
              "(483, 4)"
            ]
          },
          "metadata": {},
          "execution_count": 62
        }
      ]
    },
    {
      "cell_type": "code",
      "source": [
        "newDF['production_date'] = pd.to_datetime(newDF['production_date']).dt.date"
      ],
      "metadata": {
        "id": "7fkFTwo6NyN5"
      },
      "execution_count": 63,
      "outputs": []
    },
    {
      "cell_type": "code",
      "source": [
        "newDF.sales_code_array.head()"
      ],
      "metadata": {
        "colab": {
          "base_uri": "https://localhost:8080/"
        },
        "id": "qb8tBNlXSD8U",
        "outputId": "efa6feff-0a6e-4842-8e84-5ef74b4756e6"
      },
      "execution_count": 64,
      "outputs": [
        {
          "output_type": "execute_result",
          "data": {
            "text/plain": [
              "0    Z5E, M3E, A4S, Y1R, F5E, J3Y, X4M, J1Z, M5X, V...\n",
              "1    Z5D, M2N, K1X, Q2Z, G0W, F0S, F0K, E4M, V2H, A...\n",
              "2    Z5C, M2A, A5H, P7S, P2B, N8D, D4S, A3A, D4Q, I...\n",
              "3    Z5F, M3P, D3H, C8C, Z9I, K6T, N2F, I1P, K3Z, Z...\n",
              "4    Z5B, M1K, L1T, E6J, C6I, A2K, O0C, K1X, X1S, F...\n",
              "Name: sales_code_array, dtype: object"
            ]
          },
          "metadata": {},
          "execution_count": 64
        }
      ]
    },
    {
      "cell_type": "code",
      "source": [
        "#for sales in newDF.sales_code_array:\n",
        "  #print(len(sales.split(',')))\n",
        "  #print('\\n')"
      ],
      "metadata": {
        "id": "JK1SLFirStL9"
      },
      "execution_count": 65,
      "outputs": []
    },
    {
      "cell_type": "code",
      "source": [
        "#Task 2\n",
        "#Question 1\n",
        "#Counting total sales in provided time\n",
        "\n",
        "startdate = pd.to_datetime(\"2014-1-1\").date()\n",
        "enddate = pd.to_datetime(\"2020-12-31\").date()\n",
        "countrySales = {}\n",
        "count = 0\n",
        "for i in range(483):\n",
        "  if (newDF['production_date'][i] >= startdate) & (newDF['production_date'][i] <= enddate):\n",
        "    try:\n",
        "      countrySales[newDF['country'][i]] = countrySales[newDF['country'][i]] + len(newDF['sales_code_array'][i].split(','))\n",
        "    except:\n",
        "      countrySales[newDF['country'][i]] = len(newDF['sales_code_array'][i].split(','))\n",
        "    count += len(newDF['sales_code_array'][i].split(','))\n",
        "print(count)"
      ],
      "metadata": {
        "colab": {
          "base_uri": "https://localhost:8080/"
        },
        "id": "3YMWJMYiX5s0",
        "outputId": "2b423973-85e2-4412-d8be-873d38b848b3"
      },
      "execution_count": 66,
      "outputs": [
        {
          "output_type": "stream",
          "name": "stdout",
          "text": [
            "57012\n"
          ]
        }
      ]
    },
    {
      "cell_type": "code",
      "source": [
        "#Answer 1 \n",
        "#Top three countries to which we sold the most vehicles\n",
        "\n",
        "sort_orders = sorted(countrySales.items(), key=lambda x: x[1], reverse=True)\n",
        "count =0;\n",
        "max_count = 3\n",
        "top_Countries_name =[]\n",
        "top_Countries_values = []\n",
        "for i in sort_orders:\n",
        "\tif count == max_count:\n",
        "\t\tbreak\n",
        "\ttop_Countries_name.append(i[0])\n",
        "\ttop_Countries_values.append(i[1])\n",
        "\tprint(i[0], i[1])\n",
        "\tcount += 1\n",
        " "
      ],
      "metadata": {
        "colab": {
          "base_uri": "https://localhost:8080/"
        },
        "id": "yngm4dr1ebCp",
        "outputId": "a9b2fc05-d48d-4057-8984-b7d382691fbe"
      },
      "execution_count": 67,
      "outputs": [
        {
          "output_type": "stream",
          "name": "stdout",
          "text": [
            "Germany 15758\n",
            "Malediven 801\n",
            "Costa Rica 787\n"
          ]
        }
      ]
    },
    {
      "cell_type": "code",
      "source": [
        "#Answer 1, visualisation\n",
        "colors = sns.color_palette('pastel')[0:5]\n",
        "plt.pie(top_Countries_values, labels = top_Countries_name, colors = colors, autopct='%.0f%%')\n",
        "plt.show()"
      ],
      "metadata": {
        "id": "uV3NfvWq_V6-",
        "outputId": "e1209a02-211f-4817-c90a-5cb7eb7f1ab3",
        "colab": {
          "base_uri": "https://localhost:8080/",
          "height": 248
        }
      },
      "execution_count": 35,
      "outputs": [
        {
          "output_type": "display_data",
          "data": {
            "image/png": "[encoded data removed]",
            "text/plain": [
              "<Figure size 432x288 with 1 Axes>"
            ]
          },
          "metadata": {}
        }
      ]
    },
    {
      "cell_type": "code",
      "source": [
        "#Question 2\n",
        "\n",
        "startdate = pd.to_datetime(\"2014-1-1\").date()\n",
        "enddate = pd.to_datetime(\"2020-12-31\").date()\n",
        "yearSales = {}\n",
        "count = 0\n",
        "\n",
        "for i in range(483):\n",
        "  if (newDF['production_date'][i] >= startdate) & (newDF['production_date'][i] <= enddate):\n",
        "    try:\n",
        "      yearSales[newDF['production_date'][i].year] = yearSales[newDF['production_date'][i].year] + len(newDF['sales_code_array'][i].split(','))\n",
        "    except:\n",
        "      yearSales[newDF['production_date'][i].year] = len(newDF['sales_code_array'][i].split(','))\n",
        "    count += len(newDF['sales_code_array'][i].split(','))\n",
        "print(count)"
      ],
      "metadata": {
        "colab": {
          "base_uri": "https://localhost:8080/"
        },
        "id": "r-hYc0Y7hlTl",
        "outputId": "1280738e-3a08-4721-9eda-aa9bc6ea1ae6"
      },
      "execution_count": 36,
      "outputs": [
        {
          "output_type": "stream",
          "name": "stdout",
          "text": [
            "57012\n"
          ]
        }
      ]
    },
    {
      "cell_type": "code",
      "source": [
        "#variable\n",
        "yearSales\n",
        "top_years_name = yearSales.keys()\n",
        "top_years_value = yearSales.values()"
      ],
      "metadata": {
        "id": "xEdqvSYojHrq"
      },
      "execution_count": 37,
      "outputs": []
    },
    {
      "cell_type": "code",
      "source": [
        "#Answer 2\n",
        "#the year we sold the most vehicles overall\n",
        "sort_orders_years = sorted(yearSales.items(), key=lambda x: x[1], reverse=True)\n",
        "count =0;\n",
        "\n",
        "max_count = 1;\n",
        "for i in sort_orders_years:\n",
        "\tif count == max_count:\n",
        "\t\tbreak\n",
        "\tprint(i[0], i[1])\n",
        "\tcount += 1\n",
        " "
      ],
      "metadata": {
        "colab": {
          "base_uri": "https://localhost:8080/"
        },
        "id": "oUE6GEebi6wl",
        "outputId": "30a18b94-c267-488c-eb02-de813f42fe5f"
      },
      "execution_count": 40,
      "outputs": [
        {
          "output_type": "stream",
          "name": "stdout",
          "text": [
            "2017 9810\n"
          ]
        }
      ]
    },
    {
      "cell_type": "code",
      "source": [
        "#Answer 2, visualisation with years between 2014-2020 with numbers\n",
        "\n",
        "x = np.arange(len(yearSales.keys()))  # the label locations\n",
        "width = 0.55  # the width of the bars\n",
        "\n",
        "fig, ax = plt.subplots()\n",
        "rects1 = ax.bar(x , yearSales.values(), width, label='Year')\n",
        "\n",
        "# Add some text for labels, title and custom x-axis tick labels, etc.\n",
        "ax.set_ylabel('Years')\n",
        "ax.set_title('Year Wise Car Sale')\n",
        "ax.set_xticks(x)\n",
        "ax.set_xticklabels(yearSales.keys())\n",
        "ax.legend()\n",
        "\n",
        "\n",
        "def autolabel(rects):\n",
        "    \"\"\"Attach a text label above each bar in *rects*, displaying its height.\"\"\"\n",
        "    for rect in rects:\n",
        "        height = rect.get_height()\n",
        "        ax.annotate('{}'.format(height),\n",
        "                    xy=(rect.get_x() + rect.get_width() / 2, height),\n",
        "                    xytext=(0, 3),  # 3 points vertical offset\n",
        "                    textcoords=\"offset points\",\n",
        "                    ha='center', va='bottom')\n",
        "\n",
        "\n",
        "autolabel(rects1)\n",
        "\n",
        "fig.tight_layout()\n",
        "\n",
        "plt.show()"
      ],
      "metadata": {
        "colab": {
          "base_uri": "https://localhost:8080/",
          "height": 297
        },
        "id": "d6opmzZvG4jU",
        "outputId": "71f374bc-ae17-4330-c1f6-21d2137250c6"
      },
      "execution_count": 39,
      "outputs": [
        {
          "output_type": "display_data",
          "data": {
            "image/png": "[encoded data removed]",
            "text/plain": [
              "<Figure size 432x288 with 1 Axes>"
            ]
          },
          "metadata": {
            "needs_background": "light"
          }
        }
      ]
    },
    {
      "cell_type": "code",
      "source": [
        "#Answer 2, visualisation with years between 2014-2020 with percentage\n",
        "\n",
        "colors = sns.color_palette('pastel')[0:5]\n",
        "plt.pie(yearSales.values(), labels = yearSales.keys(), colors = colors, autopct='%.0f%%')\n",
        "plt.show()"
      ],
      "metadata": {
        "id": "hPTzZ0s5BSDI",
        "colab": {
          "base_uri": "https://localhost:8080/",
          "height": 248
        },
        "outputId": "0aea4b36-b031-42b1-fd44-60a3217b513b"
      },
      "execution_count": 41,
      "outputs": [
        {
          "output_type": "display_data",
          "data": {
            "image/png": "[encoded data removed]",
            "text/plain": [
              "<Figure size 432x288 with 1 Axes>"
            ]
          },
          "metadata": {}
        }
      ]
    },
    {
      "cell_type": "code",
      "source": [
        "#Question & Answer 3\n",
        "#FIN of the first vehicle sold in terms of time\n",
        "count =0;\n",
        "max_count = 1;\n",
        "for i,data in newDF.groupby('production_date'):\n",
        "  if count == max_count:\n",
        "    break\n",
        "  print(\"Oldest Vehicle date\")\n",
        "  print(i)\n",
        "  print(\"FIN of Oldest Vehicle Sold\")\n",
        "  dd = data['fin']\n",
        "  print(data.fin)\n",
        "  count += 1"
      ],
      "metadata": {
        "colab": {
          "base_uri": "https://localhost:8080/"
        },
        "id": "7XFh95uYj6vO",
        "outputId": "645fb25c-0088-40ff-f70f-8bb0b2901334"
      },
      "execution_count": 42,
      "outputs": [
        {
          "output_type": "stream",
          "name": "stdout",
          "text": [
            "Oldest Vehicle date\n",
            "1850-08-25\n",
            "FIN of Oldest Vehicle Sold\n",
            "243    WEB91332184832372\n",
            "Name: fin, dtype: object\n"
          ]
        }
      ]
    },
    {
      "cell_type": "code",
      "source": [
        "dataframe_engines"
      ],
      "metadata": {
        "colab": {
          "base_uri": "https://localhost:8080/",
          "height": 332
        },
        "id": "rtTcmidbk5zE",
        "outputId": "4a692635-4e2a-434a-e526-e1d1887ea8ac"
      },
      "execution_count": 43,
      "outputs": [
        {
          "output_type": "execute_result",
          "data": {
            "text/html": [
              "\n",
              "  <div id=\"df-d1b9c774-4c71-4d0a-b465-4441230bccea\">\n",
              "    <div class=\"colab-df-container\">\n",
              "      <div>\n",
              "<style scoped>\n",
              "    .dataframe tbody tr th:only-of-type {\n",
              "        vertical-align: middle;\n",
              "    }\n",
              "\n",
              "    .dataframe tbody tr th {\n",
              "        vertical-align: top;\n",
              "    }\n",
              "\n",
              "    .dataframe thead th {\n",
              "        text-align: right;\n",
              "    }\n",
              "</style>\n",
              "<table border=\"1\" class=\"dataframe\">\n",
              "  <thead>\n",
              "    <tr style=\"text-align: right;\">\n",
              "      <th></th>\n",
              "      <th>Code Group Id</th>\n",
              "      <th>Code Group Name En</th>\n",
              "      <th>Code Group Name De</th>\n",
              "      <th>Folder Name</th>\n",
              "      <th>Sales Code</th>\n",
              "      <th>Code Description En</th>\n",
              "      <th>Code Description De</th>\n",
              "    </tr>\n",
              "  </thead>\n",
              "  <tbody>\n",
              "    <tr>\n",
              "      <th>0</th>\n",
              "      <td>131</td>\n",
              "      <td>powertrain engine series</td>\n",
              "      <td>motor baureihe</td>\n",
              "      <td>06 Powertrain</td>\n",
              "      <td>M0I</td>\n",
              "      <td>OM 924</td>\n",
              "      <td>OM 924</td>\n",
              "    </tr>\n",
              "    <tr>\n",
              "      <th>1</th>\n",
              "      <td>131</td>\n",
              "      <td>powertrain engine series</td>\n",
              "      <td>motor baureihe</td>\n",
              "      <td>06 Powertrain</td>\n",
              "      <td>M0J</td>\n",
              "      <td>OM 926</td>\n",
              "      <td>OM 926</td>\n",
              "    </tr>\n",
              "    <tr>\n",
              "      <th>2</th>\n",
              "      <td>131</td>\n",
              "      <td>powertrain engine series</td>\n",
              "      <td>motor baureihe</td>\n",
              "      <td>06 Powertrain</td>\n",
              "      <td>Z5A</td>\n",
              "      <td>M 936G</td>\n",
              "      <td>M 936G</td>\n",
              "    </tr>\n",
              "    <tr>\n",
              "      <th>3</th>\n",
              "      <td>131</td>\n",
              "      <td>powertrain engine series</td>\n",
              "      <td>motor baureihe</td>\n",
              "      <td>06 Powertrain</td>\n",
              "      <td>Z5B</td>\n",
              "      <td>OM 934</td>\n",
              "      <td>OM 934</td>\n",
              "    </tr>\n",
              "    <tr>\n",
              "      <th>4</th>\n",
              "      <td>131</td>\n",
              "      <td>powertrain engine series</td>\n",
              "      <td>motor baureihe</td>\n",
              "      <td>06 Powertrain</td>\n",
              "      <td>Z5C</td>\n",
              "      <td>OM 936</td>\n",
              "      <td>OM 936</td>\n",
              "    </tr>\n",
              "    <tr>\n",
              "      <th>5</th>\n",
              "      <td>131</td>\n",
              "      <td>powertrain engine series</td>\n",
              "      <td>motor baureihe</td>\n",
              "      <td>06 Powertrain</td>\n",
              "      <td>Z5D</td>\n",
              "      <td>OM 470</td>\n",
              "      <td>OM 470</td>\n",
              "    </tr>\n",
              "    <tr>\n",
              "      <th>6</th>\n",
              "      <td>131</td>\n",
              "      <td>powertrain engine series</td>\n",
              "      <td>motor baureihe</td>\n",
              "      <td>06 Powertrain</td>\n",
              "      <td>Z5E</td>\n",
              "      <td>OM 471</td>\n",
              "      <td>OM 471</td>\n",
              "    </tr>\n",
              "    <tr>\n",
              "      <th>7</th>\n",
              "      <td>131</td>\n",
              "      <td>powertrain engine series</td>\n",
              "      <td>motor baureihe</td>\n",
              "      <td>06 Powertrain</td>\n",
              "      <td>Z5F</td>\n",
              "      <td>OM 473</td>\n",
              "      <td>OM 473</td>\n",
              "    </tr>\n",
              "    <tr>\n",
              "      <th>8</th>\n",
              "      <td>131</td>\n",
              "      <td>powertrain engine series</td>\n",
              "      <td>motor baureihe</td>\n",
              "      <td>06 Powertrain</td>\n",
              "      <td>Z5L</td>\n",
              "      <td>OM 460</td>\n",
              "      <td>OM 460</td>\n",
              "    </tr>\n",
              "  </tbody>\n",
              "</table>\n",
              "</div>\n",
              "      <button class=\"colab-df-convert\" onclick=\"convertToInteractive('df-d1b9c774-4c71-4d0a-b465-4441230bccea')\"\n",
              "              title=\"Convert this dataframe to an interactive table.\"\n",
              "              style=\"display:none;\">\n",
              "        \n",
              "  <svg xmlns=\"http://www.w3.org/2000/svg\" height=\"24px\"viewBox=\"0 0 24 24\"\n",
              "       width=\"24px\">\n",
              "    <path d=\"M0 0h24v24H0V0z\" fill=\"none\"/>\n",
              "    <path d=\"M18.56 5.44l.94 2.06.94-2.06 2.06-.94-2.06-.94-.94-2.06-.94 2.06-2.06.94zm-11 1L8.5 8.5l.94-2.06 2.06-.94-2.06-.94L8.5 2.5l-.94 2.06-2.06.94zm10 10l.94 2.06.94-2.06 2.06-.94-2.06-.94-.94-2.06-.94 2.06-2.06.94z\"/><path d=\"M17.41 7.96l-1.37-1.37c-.4-.4-.92-.59-1.43-.59-.52 0-1.04.2-1.43.59L10.3 9.45l-7.72 7.72c-.78.78-.78 2.05 0 2.83L4 21.41c.39.39.9.59 1.41.59.51 0 1.02-.2 1.41-.59l7.78-7.78 2.81-2.81c.8-.78.8-2.07 0-2.86zM5.41 20L4 18.59l7.72-7.72 1.47 1.35L5.41 20z\"/>\n",
              "  </svg>\n",
              "      </button>\n",
              "      \n",
              "  <style>\n",
              "    .colab-df-container {\n",
              "      display:flex;\n",
              "      flex-wrap:wrap;\n",
              "      gap: 12px;\n",
              "    }\n",
              "\n",
              "    .colab-df-convert {\n",
              "      background-color: #E8F0FE;\n",
              "      border: none;\n",
              "      border-radius: 50%;\n",
              "      cursor: pointer;\n",
              "      display: none;\n",
              "      fill: #1967D2;\n",
              "      height: 32px;\n",
              "      padding: 0 0 0 0;\n",
              "      width: 32px;\n",
              "    }\n",
              "\n",
              "    .colab-df-convert:hover {\n",
              "      background-color: #E2EBFA;\n",
              "      box-shadow: 0px 1px 2px rgba(60, 64, 67, 0.3), 0px 1px 3px 1px rgba(60, 64, 67, 0.15);\n",
              "      fill: #174EA6;\n",
              "    }\n",
              "\n",
              "    [theme=dark] .colab-df-convert {\n",
              "      background-color: #3B4455;\n",
              "      fill: #D2E3FC;\n",
              "    }\n",
              "\n",
              "    [theme=dark] .colab-df-convert:hover {\n",
              "      background-color: #434B5C;\n",
              "      box-shadow: 0px 1px 3px 1px rgba(0, 0, 0, 0.15);\n",
              "      filter: drop-shadow(0px 1px 2px rgba(0, 0, 0, 0.3));\n",
              "      fill: #FFFFFF;\n",
              "    }\n",
              "  </style>\n",
              "\n",
              "      <script>\n",
              "        const buttonEl =\n",
              "          document.querySelector('#df-d1b9c774-4c71-4d0a-b465-4441230bccea button.colab-df-convert');\n",
              "        buttonEl.style.display =\n",
              "          google.colab.kernel.accessAllowed ? 'block' : 'none';\n",
              "\n",
              "        async function convertToInteractive(key) {\n",
              "          const element = document.querySelector('#df-d1b9c774-4c71-4d0a-b465-4441230bccea');\n",
              "          const dataTable =\n",
              "            await google.colab.kernel.invokeFunction('convertToInteractive',\n",
              "                                                     [key], {});\n",
              "          if (!dataTable) return;\n",
              "\n",
              "          const docLinkHtml = 'Like what you see? Visit the ' +\n",
              "            '<a target=\"_blank\" href=https://colab.research.google.com/notebooks/data_table.ipynb>data table notebook</a>'\n",
              "            + ' to learn more about interactive tables.';\n",
              "          element.innerHTML = '';\n",
              "          dataTable['output_type'] = 'display_data';\n",
              "          await google.colab.output.renderOutput(dataTable, element);\n",
              "          const docLink = document.createElement('div');\n",
              "          docLink.innerHTML = docLinkHtml;\n",
              "          element.appendChild(docLink);\n",
              "        }\n",
              "      </script>\n",
              "    </div>\n",
              "  </div>\n",
              "  "
            ],
            "text/plain": [
              "   Code Group Id  ... Code Description De\n",
              "0            131  ...              OM 924\n",
              "1            131  ...              OM 926\n",
              "2            131  ...              M 936G\n",
              "3            131  ...              OM 934\n",
              "4            131  ...              OM 936\n",
              "5            131  ...              OM 470\n",
              "6            131  ...              OM 471\n",
              "7            131  ...              OM 473\n",
              "8            131  ...              OM 460\n",
              "\n",
              "[9 rows x 7 columns]"
            ]
          },
          "metadata": {},
          "execution_count": 43
        }
      ]
    },
    {
      "cell_type": "code",
      "source": [
        "#Question 4\n",
        "#Finding sales code from the provided engine codes\n",
        "selected_engines = ['OM 934', 'OM 936', 'OM 470', 'OM 471']\n",
        "selected_sales_code = []\n",
        "for i in range(9):\n",
        "  if dataframe_engines['Code Description En'][i] in selected_engines:\n",
        "    selected_sales_code.append(dataframe_engines['Sales Code'][i])\n",
        "selected_sales_code"
      ],
      "metadata": {
        "colab": {
          "base_uri": "https://localhost:8080/"
        },
        "id": "H9EvUUJjzPi_",
        "outputId": "32a873ad-462f-4946-a57c-97937f497a34"
      },
      "execution_count": 45,
      "outputs": [
        {
          "output_type": "execute_result",
          "data": {
            "text/plain": [
              "['Z5B', 'Z5C', 'Z5D', 'Z5E']"
            ]
          },
          "metadata": {},
          "execution_count": 45
        }
      ]
    },
    {
      "cell_type": "code",
      "source": [
        "#Answer 4\n",
        "#Vehicles were sold between 01/01/2017 and 01/01/2021 with OM934, OM936, OM470, and OM471 engines were sold\n",
        "startdate = pd.to_datetime(\"2017-1-1\").date()\n",
        "enddate = pd.to_datetime(\"2021-1-1\").date()\n",
        "count = 0\n",
        "results = {}\n",
        "for i in range(483):\n",
        "  if (newDF['production_date'][i] >= startdate) & (newDF['production_date'][i] <= enddate):\n",
        "    for j in selected_sales_code:\n",
        "      count += newDF['sales_code_array'][i].split(',').count(j) \n",
        "      try:\n",
        "        results[j] += newDF['sales_code_array'][i].split(',').count(j) \n",
        "      except:\n",
        "        results[j] = newDF['sales_code_array'][i].split(',').count(j) \n",
        "    \n",
        "print(\"Total engines sold between 1.1.2017 to 1.1.2021 are:\", count)\n",
        "#print(results)"
      ],
      "metadata": {
        "colab": {
          "base_uri": "https://localhost:8080/"
        },
        "id": "3_UDbuV32N3e",
        "outputId": "8ad00ee8-c2fa-42ba-bdcf-3a7b003c2f38"
      },
      "execution_count": 46,
      "outputs": [
        {
          "output_type": "stream",
          "name": "stdout",
          "text": [
            "Total engines sold between 1.1.2017 to 1.1.2021 are: 108\n"
          ]
        }
      ]
    },
    {
      "cell_type": "code",
      "source": [
        "#Answer 4, visualisation with total and individual engine sold total\n",
        "\n",
        "results['total'] = 108\n",
        "x = np.arange(len(results.keys()))  # the label locations\n",
        "width = 0.55  # the width of the bars\n",
        "\n",
        "fig, ax = plt.subplots()\n",
        "rects1 = ax.bar(x , results.values(), width, label='Year')\n",
        "\n",
        "# Add some text for labels, title and custom x-axis tick labels, etc.\n",
        "ax.set_ylabel('Numbers')\n",
        "ax.set_title('Sale_code')\n",
        "ax.set_xticks(x)\n",
        "ax.set_xticklabels(results.keys())\n",
        "ax.legend()\n",
        "\n",
        "\n",
        "def autolabel(rects):\n",
        "    \"\"\"Attach a text label above each bar in *rects*, displaying its height.\"\"\"\n",
        "    for rect in rects:\n",
        "        height = rect.get_height()\n",
        "        ax.annotate('{}'.format(height),\n",
        "                    xy=(rect.get_x() + rect.get_width() / 2, height),\n",
        "                    xytext=(0, 3),  # 3 points vertical offset\n",
        "                    textcoords=\"offset points\",\n",
        "                    ha='center', va='bottom')\n",
        "\n",
        "\n",
        "autolabel(rects1)\n",
        "\n",
        "fig.tight_layout()\n",
        "\n",
        "plt.show()"
      ],
      "metadata": {
        "colab": {
          "base_uri": "https://localhost:8080/",
          "height": 297
        },
        "id": "wlgOurL8JGM1",
        "outputId": "3940c534-05db-4e82-fb3d-39032af1d4b9"
      },
      "execution_count": 47,
      "outputs": [
        {
          "output_type": "display_data",
          "data": {
            "image/png": "[encoded data removed]",
            "text/plain": [
              "<Figure size 432x288 with 1 Axes>"
            ]
          },
          "metadata": {
            "needs_background": "light"
          }
        }
      ]
    },
    {
      "cell_type": "code",
      "source": [
        "#Question 5 \n",
        "#Finding sels code for the provided engine\n",
        "selected_engines = 'OM 936'\n",
        "selected_sales_code \n",
        "for i in range(9):\n",
        "  if dataframe_engines['Code Description En'][i] == selected_engines:\n",
        "    selected_sales_code = dataframe_engines['Sales Code'][i]\n",
        "    break\n",
        "    \n",
        "selected_sales_code"
      ],
      "metadata": {
        "colab": {
          "base_uri": "https://localhost:8080/",
          "height": 35
        },
        "id": "xYC70pqw6Oqp",
        "outputId": "9a5ef15e-a1d5-4ac0-d673-08f0804533a8"
      },
      "execution_count": 49,
      "outputs": [
        {
          "output_type": "execute_result",
          "data": {
            "application/vnd.google.colaboratory.intrinsic+json": {
              "type": "string"
            },
            "text/plain": [
              "'Z5C'"
            ]
          },
          "metadata": {},
          "execution_count": 49
        }
      ]
    },
    {
      "cell_type": "code",
      "source": [
        "#Answer 5\n",
        "#FIN were sold between 01.01.2017 and 01.01.2021 and with OM936 engine sold to New Zealand\n",
        "\n",
        "startdate = pd.to_datetime(\"2017-1-1\").date()\n",
        "enddate = pd.to_datetime(\"2021-1-1\").date()\n",
        "count = 0\n",
        "results = []\n",
        "country_name = 'Neuseeland'\n",
        "for i in range(483):\n",
        "  if (newDF['production_date'][i] >= startdate) & (newDF['production_date'][i] <= enddate):\n",
        "    if newDF['country'][i] == country_name:\n",
        "      if selected_sales_code in newDF['sales_code_array'][i].split(','):\n",
        "        results.append(newDF['fin'][i])\n",
        "      #count += newDF['sales_code_array'][i].split(',').count(j) \n",
        "    #  try:\n",
        "   #     results[j] += newDF['sales_code_array'][i].split(',').count(j) \n",
        "  #    except:\n",
        " #       results[j] = newDF['sales_code_array'][i].split(',').count(j) \n",
        "    \n",
        "print(\"FIN sold between 1.1.2017 and 1.1.2021 in Neuseeland are: \", results)\n",
        "#print(results)"
      ],
      "metadata": {
        "colab": {
          "base_uri": "https://localhost:8080/"
        },
        "id": "c3zh99S68A7b",
        "outputId": "d9898ab7-eae8-4b32-b1de-bed32ab48f12"
      },
      "execution_count": 50,
      "outputs": [
        {
          "output_type": "stream",
          "name": "stdout",
          "text": [
            "FIN sold between 1.1.2017 and 1.1.2021 in Neuseeland are:  ['NMB26186144147288']\n"
          ]
        }
      ]
    }
  ]
}